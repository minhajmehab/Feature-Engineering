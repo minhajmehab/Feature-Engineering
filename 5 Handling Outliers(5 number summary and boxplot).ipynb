{
 "cells": [
  {
   "cell_type": "markdown",
   "id": "812373cc",
   "metadata": {},
   "source": [
    "## 5 Number Summary and Box plot"
   ]
  },
  {
   "cell_type": "markdown",
   "id": "bb4fb3f5",
   "metadata": {},
   "source": [
    "### 1 Minimum\n",
    "### 2 Maximum\n",
    "### 3 Q1\n",
    "### 4 MEDIAN\n",
    "### 5 Q3\n",
    "### IQR"
   ]
  },
  {
   "cell_type": "code",
   "execution_count": 1,
   "id": "c2cb2931",
   "metadata": {},
   "outputs": [],
   "source": [
    "import numpy as np"
   ]
  },
  {
   "cell_type": "code",
   "execution_count": 3,
   "id": "2f8a5ee5",
   "metadata": {},
   "outputs": [],
   "source": [
    "lst_marks=[-100,-200,45,32,56,75,89,54,32,89,90,87,67,54,45,98,99,67,74,150,170,180]"
   ]
  },
  {
   "cell_type": "code",
   "execution_count": 5,
   "id": "611bc526",
   "metadata": {},
   "outputs": [],
   "source": [
    "minimum,q1,median,q3,maximum = np.quantile(lst_marks,[0,0.25,0.50,0.75,1.0])"
   ]
  },
  {
   "cell_type": "code",
   "execution_count": 6,
   "id": "c801c423",
   "metadata": {},
   "outputs": [
    {
     "data": {
      "text/plain": [
       "(-200.0, 47.25, 70.5, 89.75, 180.0)"
      ]
     },
     "execution_count": 6,
     "metadata": {},
     "output_type": "execute_result"
    }
   ],
   "source": [
    "minimum,q1,median,q3,maximum"
   ]
  },
  {
   "cell_type": "code",
   "execution_count": 7,
   "id": "a6b2b347",
   "metadata": {},
   "outputs": [
    {
     "data": {
      "text/plain": [
       "42.5"
      ]
     },
     "execution_count": 7,
     "metadata": {},
     "output_type": "execute_result"
    }
   ],
   "source": [
    "IQR = q3-q1\n",
    "IQR"
   ]
  },
  {
   "cell_type": "markdown",
   "id": "d2837258",
   "metadata": {},
   "source": [
    "#### The values lesser than lower fence and values higher than higer fence are outliers "
   ]
  },
  {
   "cell_type": "code",
   "execution_count": 8,
   "id": "6c64e5d0",
   "metadata": {},
   "outputs": [],
   "source": [
    "lower_fence = q1-1.5*(IQR)\n",
    "higher_fence = q3+1.5*(IQR)"
   ]
  },
  {
   "cell_type": "code",
   "execution_count": 9,
   "id": "5ae2397c",
   "metadata": {},
   "outputs": [
    {
     "data": {
      "text/plain": [
       "-16.5"
      ]
     },
     "execution_count": 9,
     "metadata": {},
     "output_type": "execute_result"
    }
   ],
   "source": [
    "lower_fence"
   ]
  },
  {
   "cell_type": "code",
   "execution_count": 10,
   "id": "c5f685c6",
   "metadata": {},
   "outputs": [
    {
     "data": {
      "text/plain": [
       "153.5"
      ]
     },
     "execution_count": 10,
     "metadata": {},
     "output_type": "execute_result"
    }
   ],
   "source": [
    "higher_fence"
   ]
  },
  {
   "cell_type": "code",
   "execution_count": 11,
   "id": "9890b62b",
   "metadata": {},
   "outputs": [],
   "source": [
    "import seaborn as sns"
   ]
  },
  {
   "cell_type": "code",
   "execution_count": 12,
   "id": "4a49d9fa",
   "metadata": {},
   "outputs": [
    {
     "name": "stderr",
     "output_type": "stream",
     "text": [
      "C:\\ProgramData\\Anaconda3\\lib\\site-packages\\seaborn\\_decorators.py:36: FutureWarning: Pass the following variable as a keyword arg: x. From version 0.12, the only valid positional argument will be `data`, and passing other arguments without an explicit keyword will result in an error or misinterpretation.\n",
      "  warnings.warn(\n"
     ]
    },
    {
     "data": {
      "text/plain": [
       "<AxesSubplot:>"
      ]
     },
     "execution_count": 12,
     "metadata": {},
     "output_type": "execute_result"
    },
    {
     "data": {
      "image/png": "[encoded data removed]",
      "text/plain": [
       "<Figure size 640x480 with 1 Axes>"
      ]
     },
     "metadata": {},
     "output_type": "display_data"
    }
   ],
   "source": [
    "sns.boxplot(lst_marks)"
   ]
  },
  {
   "cell_type": "code",
   "execution_count": null,
   "id": "b90942ed",
   "metadata": {},
   "outputs": [],
   "source": []
  }
 ],
 "metadata": {
  "kernelspec": {
   "display_name": "Python 3 (ipykernel)",
   "language": "python",
   "name": "python3"
  },
  "language_info": {
   "codemirror_mode": {
    "name": "ipython",
    "version": 3
   },
   "file_extension": ".py",
   "mimetype": "text/x-python",
   "name": "python",
   "nbconvert_exporter": "python",
   "pygments_lexer": "ipython3",
   "version": "3.9.13"
  }
 },
 "nbformat": 4,
 "nbformat_minor": 5
}
